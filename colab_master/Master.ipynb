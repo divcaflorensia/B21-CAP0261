{
  "nbformat": 4,
  "nbformat_minor": 0,
  "metadata": {
    "colab": {
      "name": "Master.ipynb",
      "provenance": [],
      "collapsed_sections": [],
      "mount_file_id": "1MkDKrsVET7JrTzgZjk1Beb6YuyXgKAw4",
      "authorship_tag": "ABX9TyO/myG8sdxS4WTYe5van0Ph",
      "include_colab_link": true
    },
    "kernelspec": {
      "name": "python3",
      "display_name": "Python 3"
    },
    "language_info": {
      "name": "python"
    }
  },
  "cells": [
    {
      "cell_type": "markdown",
      "metadata": {
        "id": "view-in-github",
        "colab_type": "text"
      },
      "source": [
        "<a href=\"https://colab.research.google.com/github/riezaferdi/B21-CAP0261/blob/main/colab_master/Master.ipynb\" target=\"_parent\"><img src=\"https://colab.research.google.com/assets/colab-badge.svg\" alt=\"Open In Colab\"/></a>"
      ]
    },
    {
      "cell_type": "code",
      "metadata": {
        "id": "3V5e1Ctq1z9k"
      },
      "source": [
        "import os\n",
        "import zipfile\n",
        "import random\n",
        "import tensorflow as tf\n",
        "from tensorflow.keras.optimizers import RMSprop\n",
        "from tensorflow.keras.preprocessing.image import ImageDataGenerator\n",
        "from shutil import copyfile\n",
        "import shutil"
      ],
      "execution_count": 1,
      "outputs": []
    },
    {
      "cell_type": "code",
      "metadata": {
        "id": "j52iolm7149l"
      },
      "source": [
        "local_zip = '/content/drive/MyDrive/dataset_hsxy.zip'\n",
        "zip_ref   = zipfile.ZipFile(local_zip, 'r')\n",
        "zip_ref.extractall('/tmp')\n",
        "zip_ref.close()"
      ],
      "execution_count": 2,
      "outputs": []
    },
    {
      "cell_type": "code",
      "metadata": {
        "colab": {
          "base_uri": "https://localhost:8080/"
        },
        "id": "-ismqPEu19L1",
        "outputId": "a16bffa2-6dda-47fe-b7c9-5e060af35012"
      },
      "source": [
        "print(len(os.listdir('/tmp/dataset_hsxy/health/')))\n",
        "print(len(os.listdir('/tmp/dataset_hsxy/s/')))\n",
        "print(len(os.listdir('/tmp/dataset_hsxy/x/')))\n",
        "print(len(os.listdir('/tmp/dataset_hsxy/y/')))\n",
        "\n",
        "# Expected Output:\n",
        "# 12501\n",
        "# 12501"
      ],
      "execution_count": 3,
      "outputs": [
        {
          "output_type": "stream",
          "text": [
            "100\n",
            "7\n",
            "12\n",
            "14\n"
          ],
          "name": "stdout"
        }
      ]
    },
    {
      "cell_type": "code",
      "metadata": {
        "id": "bxj9GBkx2BMf"
      },
      "source": [
        "try:\n",
        "    #os.mkdir('/tmp/dataset_hsxy')\n",
        "    os.mkdir('/tmp/dataset_hsxy/training')\n",
        "    os.mkdir('/tmp/dataset_hsxy/testing')\n",
        "    os.mkdir('/tmp/dataset_hsxy/training/health')\n",
        "    os.mkdir('/tmp/dataset_hsxy/training/s')\n",
        "    os.mkdir('/tmp/dataset_hsxy/training/x')\n",
        "    os.mkdir('/tmp/dataset_hsxy/training/y')\n",
        "    os.mkdir('/tmp/dataset_hsxy/testing/health')\n",
        "    os.mkdir('/tmp/dataset_hsxy/testing/s')\n",
        "    os.mkdir('/tmp/dataset_hsxy/testing/x')\n",
        "    os.mkdir('/tmp/dataset_hsxy/testing/y')\n",
        "except OSError:\n",
        "    pass"
      ],
      "execution_count": 4,
      "outputs": []
    },
    {
      "cell_type": "code",
      "metadata": {
        "id": "T2C_krBG7K2e"
      },
      "source": [
        "try:\n",
        "  shutil.rmtree('/tmp/dataset_hsxy/')\n",
        "except OSError:\n",
        "    pass"
      ],
      "execution_count": 25,
      "outputs": []
    },
    {
      "cell_type": "code",
      "metadata": {
        "id": "YkhRK3lm2CV-"
      },
      "source": [
        "def split_data(SOURCE, TRAINING, TESTING, SPLIT_SIZE):\n",
        "    files = []\n",
        "    for filename in os.listdir(SOURCE):\n",
        "        file = SOURCE + filename\n",
        "        if os.path.getsize(file) > 0:\n",
        "            files.append(filename)\n",
        "        else:\n",
        "            print(filename + \" is zero length, so ignoring.\")\n",
        "\n",
        "    training_length = int(len(files) * SPLIT_SIZE)\n",
        "    testing_length = int(len(files) - training_length)\n",
        "    shuffled_set = random.sample(files, len(files))\n",
        "    training_set = shuffled_set[0:training_length]\n",
        "    testing_set = shuffled_set[:testing_length]\n",
        "\n",
        "    for filename in training_set:\n",
        "        this_file = SOURCE + filename\n",
        "        destination = TRAINING + filename\n",
        "        copyfile(this_file, destination)\n",
        "\n",
        "    for filename in testing_set:\n",
        "        this_file = SOURCE + filename\n",
        "        destination = TESTING + filename\n",
        "        copyfile(this_file, destination)\n",
        "\n",
        "\n",
        "HEALTH_SOURCE_DIR = \"/tmp/dataset_hsxy/health/\"\n",
        "TRAINING_HEALTH_DIR = \"/tmp/dataset_hsxy/training/health/\"\n",
        "TESTING_HEALTH_DIR = \"/tmp/dataset_hsxy/testing/health/\"\n",
        "S_SOURCE_DIR = \"/tmp/dataset_hsxy/s/\"\n",
        "TRAINING_S_DIR = \"/tmp/dataset_hsxy/training/s/\"\n",
        "TESTING_S_DIR = \"/tmp/dataset_hsxy/testing/s/\"\n",
        "X_SOURCE_DIR = \"/tmp/dataset_hsxy/x/\"\n",
        "TRAINING_X_DIR = \"/tmp/dataset_hsxy/training/x/\"\n",
        "TESTING_X_DIR = \"/tmp/dataset_hsxy/testing/x/\"\n",
        "Y_SOURCE_DIR = \"/tmp/dataset_hsxy/y/\"\n",
        "TRAINING_Y_DIR = \"/tmp/dataset_hsxy/training/y/\"\n",
        "TESTING_Y_DIR = \"/tmp/dataset_hsxy/testing/y/\"\n",
        "\n",
        "split_size = .8\n",
        "split_data(HEALTH_SOURCE_DIR, TRAINING_HEALTH_DIR, TESTING_HEALTH_DIR, split_size)\n",
        "split_data(S_SOURCE_DIR, TRAINING_S_DIR, TESTING_S_DIR, split_size)\n",
        "split_data(X_SOURCE_DIR, TRAINING_X_DIR, TESTING_X_DIR, split_size)\n",
        "split_data(Y_SOURCE_DIR, TRAINING_Y_DIR, TESTING_Y_DIR, split_size)"
      ],
      "execution_count": 5,
      "outputs": []
    },
    {
      "cell_type": "code",
      "metadata": {
        "colab": {
          "base_uri": "https://localhost:8080/"
        },
        "id": "zYnm2NoE2LFP",
        "outputId": "5dd5e6f4-b3d3-4883-e9ec-0d3d9f14445d"
      },
      "source": [
        "print(len(os.listdir('/tmp/dataset_hsxy/training/health/')))\n",
        "print(len(os.listdir('/tmp/dataset_hsxy/training/s/')))\n",
        "print(len(os.listdir('/tmp/dataset_hsxy/training/x/')))\n",
        "print(len(os.listdir('/tmp/dataset_hsxy/training/y/')))\n",
        "print(len(os.listdir('/tmp/dataset_hsxy/testing/health/')))\n",
        "print(len(os.listdir('/tmp/dataset_hsxy/testing/s/')))\n",
        "print(len(os.listdir('/tmp/dataset_hsxy/testing/x/')))\n",
        "print(len(os.listdir('/tmp/dataset_hsxy/testing/y/')))"
      ],
      "execution_count": 6,
      "outputs": [
        {
          "output_type": "stream",
          "text": [
            "80\n",
            "5\n",
            "9\n",
            "11\n",
            "20\n",
            "2\n",
            "3\n",
            "3\n"
          ],
          "name": "stdout"
        }
      ]
    },
    {
      "cell_type": "code",
      "metadata": {
        "id": "PW77-HJB2ryU",
        "colab": {
          "base_uri": "https://localhost:8080/"
        },
        "outputId": "ec1afb0f-64b4-4032-b167-762423d48abd"
      },
      "source": [
        "TRAINING_DIR = \"/tmp/dataset_hsxy/training/\"\n",
        "# Experiment with your own parameters here to really try to drive it to 99.9% accuracy or better\n",
        "train_datagen = ImageDataGenerator(rescale=1./255,\n",
        "      rotation_range=40,\n",
        "      width_shift_range=0.2,\n",
        "      height_shift_range=0.2,\n",
        "      shear_range=0.2,\n",
        "      zoom_range=0.2,\n",
        "      horizontal_flip=True,\n",
        "      fill_mode='nearest')\n",
        "train_generator = train_datagen.flow_from_directory(TRAINING_DIR,\n",
        "                                                    batch_size=100,\n",
        "                                                    class_mode='binary',\n",
        "                                                    target_size=(150, 150))\n",
        "\n",
        "VALIDATION_DIR = \"/tmp/dataset_hsxy/testing/\"\n",
        "# Experiment with your own parameters here to really try to drive it to 99.9% accuracy or better\n",
        "validation_datagen = ImageDataGenerator(rescale=1./255,\n",
        "      rotation_range=40,\n",
        "      width_shift_range=0.2,\n",
        "      height_shift_range=0.2,\n",
        "      shear_range=0.2,\n",
        "      zoom_range=0.2,\n",
        "      horizontal_flip=True,\n",
        "      fill_mode='nearest')\n",
        "validation_generator = validation_datagen.flow_from_directory(VALIDATION_DIR,\n",
        "                                                              batch_size=100,\n",
        "                                                              class_mode='binary',\n",
        "                                                              target_size=(150, 150))"
      ],
      "execution_count": 7,
      "outputs": [
        {
          "output_type": "stream",
          "text": [
            "Found 105 images belonging to 4 classes.\n",
            "Found 28 images belonging to 4 classes.\n"
          ],
          "name": "stdout"
        }
      ]
    }
  ]
}