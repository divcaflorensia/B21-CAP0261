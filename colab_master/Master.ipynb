{
 "cells": [
  {
   "cell_type": "markdown",
   "metadata": {
    "colab_type": "text",
    "id": "view-in-github"
   },
   "source": [
    "<a href=\"https://colab.research.google.com/github/riezaferdi/B21-CAP0261/blob/main/colab_master/Master.ipynb\" target=\"_parent\"><img src=\"https://colab.research.google.com/assets/colab-badge.svg\" alt=\"Open In Colab\"/></a>"
   ]
  },
  {
   "cell_type": "markdown",
   "metadata": {
    "id": "uB25pzDlHJNi"
   },
   "source": [
    "# Import"
   ]
  },
  {
   "cell_type": "code",
   "execution_count": 1,
   "metadata": {
    "id": "3V5e1Ctq1z9k"
   },
   "outputs": [],
   "source": [
    "import os\n",
    "import zipfile\n",
    "import random\n",
    "import tensorflow as tf\n",
    "import pathlib\n",
    "from tensorflow.keras.optimizers import RMSprop\n",
    "from tensorflow.keras.preprocessing.image import ImageDataGenerator\n",
    "from shutil import copyfile\n",
    "import shutil"
   ]
  },
  {
   "cell_type": "markdown",
   "metadata": {
    "id": "mdIU0r8Izokv"
   },
   "source": [
    "# For clearing folder if necessary"
   ]
  },
  {
   "cell_type": "code",
   "execution_count": 2,
   "metadata": {
    "id": "T2C_krBG7K2e"
   },
   "outputs": [],
   "source": [
    "#USE THIS BLOCK CODE IF NECESSARY\n",
    "try:\n",
    "  shutil.rmtree('/tmp/dataset_hsxy/')\n",
    "  shutil.rmtree('/tmp/dataset_hsxy_splitted/')\n",
    "except OSError:\n",
    "    pass"
   ]
  },
  {
   "cell_type": "markdown",
   "metadata": {
    "id": "1fY1VbrAz1xU"
   },
   "source": [
    "# Pre processing"
   ]
  },
  {
   "cell_type": "code",
   "execution_count": 3,
   "metadata": {},
   "outputs": [
    {
     "name": "stdout",
     "output_type": "stream",
     "text": [
      "Download complete\n"
     ]
    }
   ],
   "source": [
    "#skip this if not using cloud storage\n",
    "from loader.request import download_file, upload_file\n",
    "file_path='/home/jupyter/B21-CAP0261/dataset_hsxy.zip'\n",
    "bucket_name='ksatrian-ml-storage'\n",
    "obj_loc='dataset_hsxy.zip'\n",
    "download_file(file_path,bucket_name,obj_loc)"
   ]
  },
  {
   "cell_type": "code",
   "execution_count": 4,
   "metadata": {
    "id": "j52iolm7149l"
   },
   "outputs": [],
   "source": [
    "#!wget --no-check-certificate \\\n",
    "#    \"https://drive.google.com/file/d/1xqW25CtUd_Li8yeirRiIhMuWUuUr1Aj4/view\" \\\n",
    "#    -O \"/tmp/dataset-hsxy.zip\"\n",
    "\n",
    "#local_zip = '/tmp/dataset-hsxy.zip'\n",
    "local_zip = file_path #-> use this if use cloud storage\n",
    "#local_zip = '/content/drive/MyDrive/dataset_hsxy.zip'# -> if use this, comment the line above\n",
    "zip_ref   = zipfile.ZipFile(local_zip, 'r')\n",
    "zip_ref.extractall('/tmp')\n",
    "zip_ref.close()"
   ]
  },
  {
   "cell_type": "code",
   "execution_count": 5,
   "metadata": {
    "colab": {
     "base_uri": "https://localhost:8080/"
    },
    "id": "-ismqPEu19L1",
    "outputId": "deee1665-643f-4d6d-8e94-1fcff752ad03"
   },
   "outputs": [
    {
     "name": "stdout",
     "output_type": "stream",
     "text": [
      "100\n",
      "7\n",
      "12\n",
      "14\n"
     ]
    }
   ],
   "source": [
    "print(len(os.listdir('/tmp/dataset_hsxy/health/')))\n",
    "print(len(os.listdir('/tmp/dataset_hsxy/s/')))\n",
    "print(len(os.listdir('/tmp/dataset_hsxy/x/')))\n",
    "print(len(os.listdir('/tmp/dataset_hsxy/y/')))\n",
    "\n",
    "# Expected Output:\n",
    "# 12501\n",
    "# 12501"
   ]
  },
  {
   "cell_type": "code",
   "execution_count": 6,
   "metadata": {
    "id": "bxj9GBkx2BMf"
   },
   "outputs": [],
   "source": [
    "try:\n",
    "    #os.mkdir('/tmp/dataset_hsxy')\n",
    "    os.mkdir('/tmp/dataset_hsxy/training')\n",
    "    os.mkdir('/tmp/dataset_hsxy/testing')\n",
    "    os.mkdir('/tmp/dataset_hsxy/training/health')\n",
    "    os.mkdir('/tmp/dataset_hsxy/training/s')\n",
    "    os.mkdir('/tmp/dataset_hsxy/training/x')\n",
    "    os.mkdir('/tmp/dataset_hsxy/training/y')\n",
    "    os.mkdir('/tmp/dataset_hsxy/testing/health')\n",
    "    os.mkdir('/tmp/dataset_hsxy/testing/s')\n",
    "    os.mkdir('/tmp/dataset_hsxy/testing/x')\n",
    "    os.mkdir('/tmp/dataset_hsxy/testing/y')\n",
    "except OSError:\n",
    "    pass"
   ]
  },
  {
   "cell_type": "code",
   "execution_count": 7,
   "metadata": {
    "id": "YkhRK3lm2CV-"
   },
   "outputs": [],
   "source": [
    "def split_data(SOURCE, TRAINING, TESTING, SPLIT_SIZE):\n",
    "    files = []\n",
    "    for filename in os.listdir(SOURCE):\n",
    "        file = SOURCE + filename\n",
    "        if os.path.getsize(file) > 0:\n",
    "            files.append(filename)\n",
    "        else:\n",
    "            print(filename + \" is zero length, so ignoring.\")\n",
    "\n",
    "    training_length = int(len(files) * SPLIT_SIZE)\n",
    "    testing_length = int(len(files) - training_length)\n",
    "    shuffled_set = random.sample(files, len(files))\n",
    "    training_set = shuffled_set[0:training_length]\n",
    "    testing_set = shuffled_set[:testing_length]\n",
    "\n",
    "    for filename in training_set:\n",
    "        this_file = SOURCE + filename\n",
    "        destination = TRAINING + filename\n",
    "        copyfile(this_file, destination)\n",
    "\n",
    "    for filename in testing_set:\n",
    "        this_file = SOURCE + filename\n",
    "        destination = TESTING + filename\n",
    "        copyfile(this_file, destination)\n",
    "\n",
    "\n",
    "HEALTH_SOURCE_DIR = \"/tmp/dataset_hsxy/health/\"\n",
    "TRAINING_HEALTH_DIR = \"/tmp/dataset_hsxy/training/health/\"\n",
    "TESTING_HEALTH_DIR = \"/tmp/dataset_hsxy/testing/health/\"\n",
    "S_SOURCE_DIR = \"/tmp/dataset_hsxy/s/\"\n",
    "TRAINING_S_DIR = \"/tmp/dataset_hsxy/training/s/\"\n",
    "TESTING_S_DIR = \"/tmp/dataset_hsxy/testing/s/\"\n",
    "X_SOURCE_DIR = \"/tmp/dataset_hsxy/x/\"\n",
    "TRAINING_X_DIR = \"/tmp/dataset_hsxy/training/x/\"\n",
    "TESTING_X_DIR = \"/tmp/dataset_hsxy/testing/x/\"\n",
    "Y_SOURCE_DIR = \"/tmp/dataset_hsxy/y/\"\n",
    "TRAINING_Y_DIR = \"/tmp/dataset_hsxy/training/y/\"\n",
    "TESTING_Y_DIR = \"/tmp/dataset_hsxy/testing/y/\"\n",
    "\n",
    "split_size = .8\n",
    "split_data(HEALTH_SOURCE_DIR, TRAINING_HEALTH_DIR, TESTING_HEALTH_DIR, split_size)\n",
    "split_data(S_SOURCE_DIR, TRAINING_S_DIR, TESTING_S_DIR, split_size)\n",
    "split_data(X_SOURCE_DIR, TRAINING_X_DIR, TESTING_X_DIR, split_size)\n",
    "split_data(Y_SOURCE_DIR, TRAINING_Y_DIR, TESTING_Y_DIR, split_size)"
   ]
  },
  {
   "cell_type": "code",
   "execution_count": 8,
   "metadata": {
    "colab": {
     "base_uri": "https://localhost:8080/"
    },
    "id": "zYnm2NoE2LFP",
    "outputId": "87a8ee53-f8e3-4094-91c3-8015887e5c9c"
   },
   "outputs": [
    {
     "name": "stdout",
     "output_type": "stream",
     "text": [
      "80\n",
      "5\n",
      "9\n",
      "11\n",
      "20\n",
      "2\n",
      "3\n",
      "3\n"
     ]
    }
   ],
   "source": [
    "print(len(os.listdir('/tmp/dataset_hsxy/training/health/')))\n",
    "print(len(os.listdir('/tmp/dataset_hsxy/training/s/')))\n",
    "print(len(os.listdir('/tmp/dataset_hsxy/training/x/')))\n",
    "print(len(os.listdir('/tmp/dataset_hsxy/training/y/')))\n",
    "print(len(os.listdir('/tmp/dataset_hsxy/testing/health/')))\n",
    "print(len(os.listdir('/tmp/dataset_hsxy/testing/s/')))\n",
    "print(len(os.listdir('/tmp/dataset_hsxy/testing/x/')))\n",
    "print(len(os.listdir('/tmp/dataset_hsxy/testing/y/')))"
   ]
  },
  {
   "cell_type": "markdown",
   "metadata": {
    "id": "MoSfVzCgHZEH"
   },
   "source": [
    "# Augmentation"
   ]
  },
  {
   "cell_type": "code",
   "execution_count": 9,
   "metadata": {
    "colab": {
     "base_uri": "https://localhost:8080/"
    },
    "id": "PW77-HJB2ryU",
    "outputId": "e30b499f-e55e-4e36-f5dc-90ca2bbb898d"
   },
   "outputs": [
    {
     "name": "stdout",
     "output_type": "stream",
     "text": [
      "Found 105 images belonging to 4 classes.\n",
      "Found 28 images belonging to 4 classes.\n"
     ]
    }
   ],
   "source": [
    "TRAINING_DIR = \"/tmp/dataset_hsxy/training/\"\n",
    "\n",
    "train_datagen = ImageDataGenerator(rescale=1./255,\n",
    "      rotation_range=40,\n",
    "      width_shift_range=0.2,\n",
    "      height_shift_range=0.2,\n",
    "      shear_range=0.2,\n",
    "      zoom_range=0.2,\n",
    "      horizontal_flip=True,\n",
    "      fill_mode='nearest')\n",
    "train_generator = train_datagen.flow_from_directory(TRAINING_DIR,\n",
    "                                                    batch_size=100,\n",
    "                                                    class_mode='binary',\n",
    "                                                    target_size=(150, 150))\n",
    "\n",
    "VALIDATION_DIR = \"/tmp/dataset_hsxy/testing/\"\n",
    "\n",
    "validation_datagen = ImageDataGenerator(rescale=1./255,\n",
    "      rotation_range=40,\n",
    "      width_shift_range=0.2,\n",
    "      height_shift_range=0.2,\n",
    "      shear_range=0.2,\n",
    "      zoom_range=0.2,\n",
    "      horizontal_flip=True,\n",
    "      fill_mode='nearest')\n",
    "validation_generator = validation_datagen.flow_from_directory(VALIDATION_DIR,\n",
    "                                                              batch_size=100,\n",
    "                                                              class_mode='binary',\n",
    "                                                              target_size=(150, 150))"
   ]
  },
  {
   "cell_type": "markdown",
   "metadata": {
    "id": "Vh3PSgNdHgJX"
   },
   "source": [
    "#  Train"
   ]
  },
  {
   "cell_type": "code",
   "execution_count": 10,
   "metadata": {
    "id": "g3-xO5g6t_7n"
   },
   "outputs": [],
   "source": [
    "model = tf.keras.Sequential([\n",
    "    tf.keras.layers.Conv2D(64, (3,3), activation='relu', input_shape=(150, 150, 3)),\n",
    "    tf.keras.layers.MaxPooling2D(),\n",
    "    tf.keras.layers.Conv2D(64, (3,3), activation='relu'),\n",
    "    tf.keras.layers.MaxPooling2D(),\n",
    "    tf.keras.layers.Flatten(),\n",
    "    tf.keras.layers.Dense(512, activation='relu'),\n",
    "    tf.keras.layers.Dense(4, activation='softmax')])\n",
    "\n",
    "model.compile(optimizer='adam',\n",
    "              loss='sparse_categorical_crossentropy',\n",
    "              metrics=['accuracy'])"
   ]
  },
  {
   "cell_type": "code",
   "execution_count": 11,
   "metadata": {
    "colab": {
     "base_uri": "https://localhost:8080/",
     "height": 881
    },
    "id": "bwNRxN7OuAEm",
    "outputId": "a781e135-3535-4dbd-bb15-af5502c36ed1"
   },
   "outputs": [
    {
     "name": "stdout",
     "output_type": "stream",
     "text": [
      "Epoch 1/10\n",
      "2/2 [==============================] - 8s 6s/step - loss: 5.1055 - accuracy: 0.4825 - val_loss: 5.9475 - val_accuracy: 0.7143\n",
      "Epoch 2/10\n",
      "2/2 [==============================] - 6s 5s/step - loss: 2.0746 - accuracy: 0.7746 - val_loss: 4.6227 - val_accuracy: 0.1071\n",
      "Epoch 3/10\n",
      "2/2 [==============================] - 5s 5s/step - loss: 1.5935 - accuracy: 0.6603 - val_loss: 0.9782 - val_accuracy: 0.7500\n",
      "Epoch 4/10\n",
      "2/2 [==============================] - 5s 1s/step - loss: 0.8192 - accuracy: 0.7613 - val_loss: 0.9792 - val_accuracy: 0.7857\n",
      "Epoch 5/10\n",
      "2/2 [==============================] - 5s 5s/step - loss: 0.6109 - accuracy: 0.8857 - val_loss: 0.8423 - val_accuracy: 0.7857\n",
      "Epoch 6/10\n",
      "2/2 [==============================] - 6s 5s/step - loss: 0.4590 - accuracy: 0.8794 - val_loss: 0.8054 - val_accuracy: 0.7857\n",
      "Epoch 7/10\n",
      "2/2 [==============================] - 5s 5s/step - loss: 0.4010 - accuracy: 0.8730 - val_loss: 0.6904 - val_accuracy: 0.7857\n",
      "Epoch 8/10\n",
      "2/2 [==============================] - 5s 5s/step - loss: 1.1964 - accuracy: 0.5714 - val_loss: 0.5532 - val_accuracy: 0.7857\n",
      "Epoch 9/10\n",
      "2/2 [==============================] - 6s 1s/step - loss: 0.4398 - accuracy: 0.8678 - val_loss: 0.8524 - val_accuracy: 0.7857\n",
      "Epoch 10/10\n",
      "2/2 [==============================] - 5s 1s/step - loss: 0.5629 - accuracy: 0.8257 - val_loss: 0.7852 - val_accuracy: 0.7857\n"
     ]
    },
    {
     "data": {
      "image/png": "[encoded data removed]",
      "text/plain": [
       "<Figure size 432x288 with 1 Axes>"
      ]
     },
     "metadata": {
      "needs_background": "light"
     },
     "output_type": "display_data"
    },
    {
     "data": {
      "image/png": "[encoded data removed]",
      "text/plain": [
       "<Figure size 432x288 with 1 Axes>"
      ]
     },
     "metadata": {
      "needs_background": "light"
     },
     "output_type": "display_data"
    }
   ],
   "source": [
    "history = model.fit(train_generator, \n",
    "                    epochs=10, \n",
    "                    validation_data=validation_generator)\n",
    "\n",
    "import matplotlib.pyplot as plt\n",
    "acc = history.history['accuracy']\n",
    "val_acc = history.history['val_accuracy']\n",
    "loss = history.history['loss']\n",
    "val_loss = history.history['val_loss']\n",
    "\n",
    "epochs = range(len(acc))\n",
    "\n",
    "plt.plot(epochs, acc, 'r', label='Training accuracy')\n",
    "plt.plot(epochs, val_acc, 'b', label='Validation accuracy')\n",
    "plt.title('Training and validation accuracy')\n",
    "plt.legend()\n",
    "plt.figure()\n",
    "\n",
    "plt.plot(epochs, loss, 'r', label='Training Loss')\n",
    "plt.plot(epochs, val_loss, 'b', label='Validation Loss')\n",
    "plt.title('Training and validation loss')\n",
    "plt.legend()\n",
    "\n",
    "plt.show()"
   ]
  },
  {
   "cell_type": "markdown",
   "metadata": {
    "id": "OLE75TX7Hi3H"
   },
   "source": [
    "# Convert to TFLite"
   ]
  },
  {
   "cell_type": "code",
   "execution_count": 12,
   "metadata": {
    "colab": {
     "base_uri": "https://localhost:8080/"
    },
    "id": "PJN9XGGSuAOX",
    "outputId": "dca47ff5-50dc-457c-cbe5-1ef81a96814c"
   },
   "outputs": [
    {
     "name": "stdout",
     "output_type": "stream",
     "text": [
      "INFO:tensorflow:Assets written to: saved_model/1/assets\n"
     ]
    }
   ],
   "source": [
    "export_dir = 'saved_model/1'\n",
    "\n",
    "tf.saved_model.save(model, export_dir)\n"
   ]
  },
  {
   "cell_type": "code",
   "execution_count": 13,
   "metadata": {
    "id": "u-KX_mCK2mrR"
   },
   "outputs": [],
   "source": [
    "mode = \"Speed\" \n",
    "\n",
    "if mode == 'Storage':\n",
    "    optimization = tf.lite.Optimize.OPTIMIZE_FOR_SIZE\n",
    "elif mode == 'Speed':\n",
    "    optimization = tf.lite.Optimize.OPTIMIZE_FOR_LATENCY\n",
    "else:\n",
    "    optimization = tf.lite.Optimize.DEFAULT"
   ]
  },
  {
   "cell_type": "code",
   "execution_count": 14,
   "metadata": {
    "id": "Jwte4Bu52m0e"
   },
   "outputs": [],
   "source": [
    "converter = tf.lite.TFLiteConverter.from_saved_model(export_dir)\n",
    "\n",
    "converter.optimizations = [optimization]\n",
    "\n",
    "tflite_model = converter.convert()"
   ]
  },
  {
   "cell_type": "code",
   "execution_count": 15,
   "metadata": {
    "colab": {
     "base_uri": "https://localhost:8080/"
    },
    "id": "-Hr5gpqo2m8d",
    "outputId": "59b59035-03b4-409e-9b1a-3f2cc023ba3b"
   },
   "outputs": [
    {
     "data": {
      "text/plain": [
       "42516160"
      ]
     },
     "execution_count": 15,
     "metadata": {},
     "output_type": "execute_result"
    }
   ],
   "source": [
    "tflite_model_file = pathlib.Path('./model.tflite')\n",
    "tflite_model_file.write_bytes(tflite_model)"
   ]
  },
  {
   "cell_type": "markdown",
   "metadata": {
    "id": "i5GLojTMI9Wv"
   },
   "source": [
    "# make .txt"
   ]
  },
  {
   "cell_type": "code",
   "execution_count": 15,
   "metadata": {
    "id": "v6BPpb_7JIAn"
   },
   "outputs": [],
   "source": [
    "f = open(\"./label.txt\",\"w+\")\n",
    "f.write(\"health\\nx\\ny\\ns\")\n",
    "f.close() "
   ]
  }
 ],
 "metadata": {
  "colab": {
   "authorship_tag": "ABX9TyNpbpG4JT+w3jiI7+ssySkW",
   "collapsed_sections": [],
   "include_colab_link": true,
   "mount_file_id": "1MkDKrsVET7JrTzgZjk1Beb6YuyXgKAw4",
   "name": "Master.ipynb",
   "provenance": [],
   "toc_visible": true
  },
  "environment": {
   "name": "tf2-gpu.2-4.m69",
   "type": "gcloud",
   "uri": "gcr.io/deeplearning-platform-release/tf2-gpu.2-4:m69"
  },
  "kernelspec": {
   "display_name": "Python 3",
   "language": "python",
   "name": "python3"
  },
  "language_info": {
   "codemirror_mode": {
    "name": "ipython",
    "version": 3
   },
   "file_extension": ".py",
   "mimetype": "text/x-python",
   "name": "python",
   "nbconvert_exporter": "python",
   "pygments_lexer": "ipython3",
   "version": "3.7.10"
  }
 },
 "nbformat": 4,
 "nbformat_minor": 4
}
